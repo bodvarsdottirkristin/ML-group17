{
 "cells": [
  {
   "cell_type": "code",
   "execution_count": null,
   "id": "5e8c43e6",
   "metadata": {},
   "outputs": [],
   "source": [
    "import pandas as pd\n",
    "import numpy as np\n",
    "\n",
    "import matplotlib.pyplot as plt\n",
    "import sklearn.linear_model as lm\n",
    "import seaborn as sns\n",
    "\n",
    "from sklearn.preprocessing import PolynomialFeatures\n",
    "from sklearn.linear_model import LinearRegression\n",
    "from sklearn.pipeline import make_pipeline\n",
    "from sklearn.metrics import mean_squared_error\n",
    "import matplotlib.gridspec as gridspec\n",
    "from sklearn.model_selection import train_test_split, KFold, LeaveOneOut\n",
    "from sklearn.neighbors import KNeighborsClassifier\n",
    "\n",
    "# Plotting style\n",
    "sns.set_style('darkgrid')\n",
    "sns.set_theme(font_scale=1.)\n",
    "\n",
    "# Define parameters\n",
    "seed = 1234"
   ]
  },
  {
   "cell_type": "code",
   "execution_count": null,
   "id": "6ae5842b",
   "metadata": {},
   "outputs": [],
   "source": [
    "# Initial data cleaning\n",
    "df = pd.read_csv('data/SAHeart.csv')\n",
    "df['chd'] = df['chd'].astype('category')\n",
    "df['famhist'] = df['famhist'].map({'Absent':0, 'Present':1}).astype('category')\n",
    "\n",
    "# Filter outliers if we need to??\n",
    "#df = df[~( (df[''] > 2) | (df[''] > 1) )]\n",
    "\n",
    "df.head()"
   ]
  },
  {
   "cell_type": "code",
   "execution_count": null,
   "id": "805f88fc",
   "metadata": {},
   "outputs": [],
   "source": [
    "# What to predict for Regression??\n",
    "X = df.iloc[:,1:-1]\n",
    "y = df['chd']\n",
    "\n",
    "\n",
    "test_size = 0.2\n",
    "\n",
    "X_train, X_test, y_train, y_test = train_test_split(\n",
    "    X, y, test_size=test_size, random_state=seed)"
   ]
  }
 ],
 "metadata": {
  "language_info": {
   "name": "python"
  }
 },
 "nbformat": 4,
 "nbformat_minor": 5
}
